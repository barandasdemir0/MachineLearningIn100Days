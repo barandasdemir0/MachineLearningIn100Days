{
 "cells": [
  {
   "cell_type": "code",
   "execution_count": 1,
   "id": "a4288ab5-566a-46b0-ac37-ccf8030e09bb",
   "metadata": {},
   "outputs": [
    {
     "ename": "NameError",
     "evalue": "name 'mixedList' is not defined",
     "output_type": "error",
     "traceback": [
      "\u001b[1;31m---------------------------------------------------------------------------\u001b[0m",
      "\u001b[1;31mNameError\u001b[0m                                 Traceback (most recent call last)",
      "Cell \u001b[1;32mIn[1], line 1\u001b[0m\n\u001b[1;32m----> 1\u001b[0m mixedList(\u001b[38;5;124m\"\u001b[39m\u001b[38;5;124mbaran\u001b[39m\u001b[38;5;124m\"\u001b[39m,\u001b[38;5;241m20\u001b[39m,\u001b[38;5;241m3.14\u001b[39m)\n",
      "\u001b[1;31mNameError\u001b[0m: name 'mixedList' is not defined"
     ]
    }
   ],
   "source": [
    "mixedList(\"baran\",20,3.14)"
   ]
  },
  {
   "cell_type": "code",
   "execution_count": 2,
   "id": "8ad0fcc4-5165-4bf6-acca-54a0025093f2",
   "metadata": {},
   "outputs": [],
   "source": [
    "mixedList= [\"baran\",20,3.14]"
   ]
  },
  {
   "cell_type": "code",
   "execution_count": 3,
   "id": "82be64c0-bba6-4338-b739-735888d649cd",
   "metadata": {},
   "outputs": [
    {
     "data": {
      "text/plain": [
       "['baran', 20, 3.14]"
      ]
     },
     "execution_count": 3,
     "metadata": {},
     "output_type": "execute_result"
    }
   ],
   "source": [
    "mixedList"
   ]
  },
  {
   "cell_type": "code",
   "execution_count": 4,
   "id": "7080f63e-151c-4568-bd74-289faedce4b1",
   "metadata": {},
   "outputs": [
    {
     "data": {
      "text/plain": [
       "list"
      ]
     },
     "execution_count": 4,
     "metadata": {},
     "output_type": "execute_result"
    }
   ],
   "source": [
    "type(mixedList)"
   ]
  },
  {
   "cell_type": "code",
   "execution_count": 5,
   "id": "df6778e8-ea9d-490b-bd35-b05db24d47a7",
   "metadata": {},
   "outputs": [],
   "source": [
    "list1 = [10,20,30]\n",
    "list2 = [40,50,60]"
   ]
  },
  {
   "cell_type": "code",
   "execution_count": 6,
   "id": "b23122ed-e8ce-4aa2-bea3-cd50f89d43aa",
   "metadata": {},
   "outputs": [
    {
     "data": {
      "text/plain": [
       "[10, 20, 30, 40, 50, 60]"
      ]
     },
     "execution_count": 6,
     "metadata": {},
     "output_type": "execute_result"
    }
   ],
   "source": [
    "list1+list2"
   ]
  },
  {
   "cell_type": "code",
   "execution_count": 7,
   "id": "91121c2b-d52e-4b34-9350-7a57498cd2e2",
   "metadata": {},
   "outputs": [
    {
     "data": {
      "text/plain": [
       "[10, 20, 30, 10, 20, 30]"
      ]
     },
     "execution_count": 7,
     "metadata": {},
     "output_type": "execute_result"
    }
   ],
   "source": [
    "list1*2"
   ]
  },
  {
   "cell_type": "code",
   "execution_count": 8,
   "id": "d6c07643-3e80-4c26-bb2c-6c22808d7178",
   "metadata": {},
   "outputs": [
    {
     "ename": "TypeError",
     "evalue": "unsupported operand type(s) for /: 'list' and 'int'",
     "output_type": "error",
     "traceback": [
      "\u001b[1;31m---------------------------------------------------------------------------\u001b[0m",
      "\u001b[1;31mTypeError\u001b[0m                                 Traceback (most recent call last)",
      "Cell \u001b[1;32mIn[8], line 1\u001b[0m\n\u001b[1;32m----> 1\u001b[0m list1\u001b[38;5;241m/\u001b[39m\u001b[38;5;241m2\u001b[39m\n",
      "\u001b[1;31mTypeError\u001b[0m: unsupported operand type(s) for /: 'list' and 'int'"
     ]
    }
   ],
   "source": [
    "list1/2"
   ]
  },
  {
   "cell_type": "code",
   "execution_count": 9,
   "id": "64367af6-e0d5-46eb-bb20-29209e6b7072",
   "metadata": {},
   "outputs": [],
   "source": [
    "#nestedList"
   ]
  },
  {
   "cell_type": "code",
   "execution_count": 10,
   "id": "e7bffd43-6ac8-4b19-ac83-f97f8ec2a2e9",
   "metadata": {},
   "outputs": [],
   "source": [
    "myNestedList = [10,20,3.14,\"Baran\",[40,50,2.11,\"Daşdemir\"]]"
   ]
  },
  {
   "cell_type": "code",
   "execution_count": 11,
   "id": "4703a9f9-1087-4769-ab2f-cd08e9475623",
   "metadata": {},
   "outputs": [
    {
     "data": {
      "text/plain": [
       "[10, 20, 3.14, 'Baran', [40, 50, 2.11, 'Daşdemir']]"
      ]
     },
     "execution_count": 11,
     "metadata": {},
     "output_type": "execute_result"
    }
   ],
   "source": [
    "myNestedList"
   ]
  },
  {
   "cell_type": "code",
   "execution_count": 12,
   "id": "6a1df232-eacf-4942-9532-d0ea4e09d321",
   "metadata": {},
   "outputs": [
    {
     "data": {
      "text/plain": [
       "[40, 50, 2.11, 'Daşdemir']"
      ]
     },
     "execution_count": 12,
     "metadata": {},
     "output_type": "execute_result"
    }
   ],
   "source": [
    "myNestedList[4]"
   ]
  },
  {
   "cell_type": "code",
   "execution_count": 13,
   "id": "911563e3-93eb-41bb-9f0b-c2c1d33e4c0a",
   "metadata": {},
   "outputs": [
    {
     "data": {
      "text/plain": [
       "10"
      ]
     },
     "execution_count": 13,
     "metadata": {},
     "output_type": "execute_result"
    }
   ],
   "source": [
    "myNestedList[0]"
   ]
  },
  {
   "cell_type": "code",
   "execution_count": 14,
   "id": "ccf39792-fc44-4c1c-9907-40b2c1a57166",
   "metadata": {},
   "outputs": [],
   "source": [
    "x = myNestedList[4]"
   ]
  },
  {
   "cell_type": "code",
   "execution_count": 15,
   "id": "e36e8849-1c6a-4664-838e-c55d43d64fed",
   "metadata": {},
   "outputs": [
    {
     "data": {
      "text/plain": [
       "[40, 50, 2.11, 'Daşdemir']"
      ]
     },
     "execution_count": 15,
     "metadata": {},
     "output_type": "execute_result"
    }
   ],
   "source": [
    "x"
   ]
  },
  {
   "cell_type": "code",
   "execution_count": 16,
   "id": "8411cf3b-3e70-4f12-8d8d-53b29447f1b1",
   "metadata": {},
   "outputs": [
    {
     "data": {
      "text/plain": [
       "2.11"
      ]
     },
     "execution_count": 16,
     "metadata": {},
     "output_type": "execute_result"
    }
   ],
   "source": [
    "x[2]"
   ]
  },
  {
   "cell_type": "code",
   "execution_count": 17,
   "id": "be957b3c-a1ed-4853-a71a-cb1860191cdf",
   "metadata": {},
   "outputs": [
    {
     "name": "stderr",
     "output_type": "stream",
     "text": [
      "<>:1: SyntaxWarning: 'int' object is not subscriptable; perhaps you missed a comma?\n",
      "C:\\Users\\Baran\\AppData\\Local\\Temp\\ipykernel_25700\\1195856524.py:1: SyntaxWarning: 'int' object is not subscriptable; perhaps you missed a comma?\n",
      "  myNestedList[4[1]]\n",
      "C:\\Users\\Baran\\AppData\\Local\\Temp\\ipykernel_25700\\1195856524.py:1: SyntaxWarning: 'int' object is not subscriptable; perhaps you missed a comma?\n",
      "  myNestedList[4[1]]\n"
     ]
    },
    {
     "ename": "TypeError",
     "evalue": "'int' object is not subscriptable",
     "output_type": "error",
     "traceback": [
      "\u001b[1;31m---------------------------------------------------------------------------\u001b[0m",
      "\u001b[1;31mTypeError\u001b[0m                                 Traceback (most recent call last)",
      "Cell \u001b[1;32mIn[17], line 1\u001b[0m\n\u001b[1;32m----> 1\u001b[0m myNestedList[\u001b[38;5;241m4\u001b[39m[\u001b[38;5;241m1\u001b[39m]]\n",
      "\u001b[1;31mTypeError\u001b[0m: 'int' object is not subscriptable"
     ]
    }
   ],
   "source": [
    "myNestedList[4[1]]"
   ]
  },
  {
   "cell_type": "code",
   "execution_count": 18,
   "id": "28283704-e2c9-4f89-9561-00b3d6dd4ca4",
   "metadata": {},
   "outputs": [
    {
     "data": {
      "text/plain": [
       "'Daşdemir'"
      ]
     },
     "execution_count": 18,
     "metadata": {},
     "output_type": "execute_result"
    }
   ],
   "source": [
    "myNestedList[4][3]"
   ]
  },
  {
   "cell_type": "code",
   "execution_count": null,
   "id": "6ad4e11c-b3f1-49fc-b2f4-a7c8b6bf72ac",
   "metadata": {},
   "outputs": [],
   "source": []
  }
 ],
 "metadata": {
  "kernelspec": {
   "display_name": "Python [conda env:base] *",
   "language": "python",
   "name": "conda-base-py"
  },
  "language_info": {
   "codemirror_mode": {
    "name": "ipython",
    "version": 3
   },
   "file_extension": ".py",
   "mimetype": "text/x-python",
   "name": "python",
   "nbconvert_exporter": "python",
   "pygments_lexer": "ipython3",
   "version": "3.13.5"
  }
 },
 "nbformat": 4,
 "nbformat_minor": 5
}
