{
 "cells": [
  {
   "cell_type": "code",
   "execution_count": 1,
   "id": "e4746e84-3d38-488c-9efd-7f2971d155bf",
   "metadata": {},
   "outputs": [
    {
     "name": "stdin",
     "output_type": "stream",
     "text": [
      "0 10\n"
     ]
    }
   ],
   "source": [
    "x=input(int())"
   ]
  },
  {
   "cell_type": "code",
   "execution_count": 2,
   "id": "b089c9c6-3dd9-4292-9cd6-a4cd8ed16336",
   "metadata": {},
   "outputs": [
    {
     "name": "stdin",
     "output_type": "stream",
     "text": [
      "0 20\n"
     ]
    }
   ],
   "source": [
    "y=input(int())"
   ]
  },
  {
   "cell_type": "code",
   "execution_count": 3,
   "id": "01467706-a315-4790-aa6b-df5d390d1abb",
   "metadata": {},
   "outputs": [
    {
     "data": {
      "text/plain": [
       "'1020'"
      ]
     },
     "execution_count": 3,
     "metadata": {},
     "output_type": "execute_result"
    }
   ],
   "source": [
    "x+y"
   ]
  },
  {
   "cell_type": "code",
   "execution_count": 4,
   "id": "4dd65179-7879-44a3-92cf-76adc8ad06d2",
   "metadata": {},
   "outputs": [
    {
     "name": "stdin",
     "output_type": "stream",
     "text": [
      "x değerini Giriniz :  10\n"
     ]
    }
   ],
   "source": [
    "x = int(input(\"x değerini Giriniz : \"))"
   ]
  },
  {
   "cell_type": "code",
   "execution_count": 5,
   "id": "e6384a0a-fd24-4f90-b769-f51a47cae30e",
   "metadata": {},
   "outputs": [
    {
     "name": "stdin",
     "output_type": "stream",
     "text": [
      "y değerini Giriniz :  20\n"
     ]
    }
   ],
   "source": [
    "y = int(input(\"y değerini Giriniz : \"))"
   ]
  },
  {
   "cell_type": "code",
   "execution_count": 6,
   "id": "caa189bc-9574-4417-8333-a2b8fb2a9bff",
   "metadata": {},
   "outputs": [
    {
     "data": {
      "text/plain": [
       "30"
      ]
     },
     "execution_count": 6,
     "metadata": {},
     "output_type": "execute_result"
    }
   ],
   "source": [
    "x+y"
   ]
  },
  {
   "cell_type": "code",
   "execution_count": 7,
   "id": "6c4a46f5-fbd2-408e-92a7-64fa613aea84",
   "metadata": {},
   "outputs": [
    {
     "data": {
      "text/plain": [
       "int"
      ]
     },
     "execution_count": 7,
     "metadata": {},
     "output_type": "execute_result"
    }
   ],
   "source": [
    "type(x)"
   ]
  },
  {
   "cell_type": "code",
   "execution_count": 8,
   "id": "ad7a84c7-042a-4625-b97f-cfee3a7b392f",
   "metadata": {},
   "outputs": [
    {
     "data": {
      "text/plain": [
       "int"
      ]
     },
     "execution_count": 8,
     "metadata": {},
     "output_type": "execute_result"
    }
   ],
   "source": [
    "type(x+y)"
   ]
  },
  {
   "cell_type": "code",
   "execution_count": 9,
   "id": "1b594905-2e1d-4c8f-a5a9-885e652b7ad3",
   "metadata": {},
   "outputs": [
    {
     "ename": "ValueError",
     "evalue": "invalid literal for int() with base 10: 'y değerini giriniz : '",
     "output_type": "error",
     "traceback": [
      "\u001b[1;31m---------------------------------------------------------------------------\u001b[0m",
      "\u001b[1;31mValueError\u001b[0m                                Traceback (most recent call last)",
      "Cell \u001b[1;32mIn[9], line 1\u001b[0m\n\u001b[1;32m----> 1\u001b[0m y\u001b[38;5;241m=\u001b[39m\u001b[38;5;28minput\u001b[39m(\u001b[38;5;28mint\u001b[39m(\u001b[38;5;124m\"\u001b[39m\u001b[38;5;124my değerini giriniz : \u001b[39m\u001b[38;5;124m\"\u001b[39m))\n",
      "\u001b[1;31mValueError\u001b[0m: invalid literal for int() with base 10: 'y değerini giriniz : '"
     ]
    }
   ],
   "source": [
    "y=input(int(\"y değerini giriniz : \"))"
   ]
  },
  {
   "cell_type": "code",
   "execution_count": 10,
   "id": "6513d9dd-55ce-4dde-9ba0-fc1af97d7406",
   "metadata": {},
   "outputs": [
    {
     "name": "stdin",
     "output_type": "stream",
     "text": [
      "0 20\n"
     ]
    }
   ],
   "source": [
    "y=input(int())"
   ]
  },
  {
   "cell_type": "code",
   "execution_count": 11,
   "id": "74889ca4-5297-4e84-9509-9c2fff1ff6ac",
   "metadata": {},
   "outputs": [
    {
     "ename": "TypeError",
     "evalue": "unsupported operand type(s) for +: 'int' and 'str'",
     "output_type": "error",
     "traceback": [
      "\u001b[1;31m---------------------------------------------------------------------------\u001b[0m",
      "\u001b[1;31mTypeError\u001b[0m                                 Traceback (most recent call last)",
      "Cell \u001b[1;32mIn[11], line 1\u001b[0m\n\u001b[1;32m----> 1\u001b[0m \u001b[38;5;28mtype\u001b[39m(x\u001b[38;5;241m+\u001b[39my)\n",
      "\u001b[1;31mTypeError\u001b[0m: unsupported operand type(s) for +: 'int' and 'str'"
     ]
    }
   ],
   "source": [
    "type(x+y)"
   ]
  },
  {
   "cell_type": "code",
   "execution_count": null,
   "id": "3b11b905-1902-4e47-af6b-152ea7f0b746",
   "metadata": {},
   "outputs": [],
   "source": []
  }
 ],
 "metadata": {
  "kernelspec": {
   "display_name": "Python [conda env:base] *",
   "language": "python",
   "name": "conda-base-py"
  },
  "language_info": {
   "codemirror_mode": {
    "name": "ipython",
    "version": 3
   },
   "file_extension": ".py",
   "mimetype": "text/x-python",
   "name": "python",
   "nbconvert_exporter": "python",
   "pygments_lexer": "ipython3",
   "version": "3.13.5"
  }
 },
 "nbformat": 4,
 "nbformat_minor": 5
}
