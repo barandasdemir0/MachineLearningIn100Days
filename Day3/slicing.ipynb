{
 "cells": [
  {
   "cell_type": "code",
   "execution_count": 1,
   "id": "139e73ba-0d61-4040-babb-11e89873724f",
   "metadata": {},
   "outputs": [],
   "source": [
    "barcode=\"ABC123456789\""
   ]
  },
  {
   "cell_type": "code",
   "execution_count": 2,
   "id": "05a09f04-deb0-440f-9dc1-207fc3a71ea7",
   "metadata": {},
   "outputs": [
    {
     "data": {
      "text/plain": [
       "'ABC123456789'"
      ]
     },
     "execution_count": 2,
     "metadata": {},
     "output_type": "execute_result"
    }
   ],
   "source": [
    "barcode"
   ]
  },
  {
   "cell_type": "code",
   "execution_count": 3,
   "id": "dd62d184-ab4d-4c75-9e9a-add6f15b4622",
   "metadata": {},
   "outputs": [
    {
     "data": {
      "text/plain": [
       "'C'"
      ]
     },
     "execution_count": 3,
     "metadata": {},
     "output_type": "execute_result"
    }
   ],
   "source": [
    "barcode[2]"
   ]
  },
  {
   "cell_type": "code",
   "execution_count": 4,
   "id": "0691a397-4b89-435e-8b53-ae025c327f46",
   "metadata": {},
   "outputs": [
    {
     "data": {
      "text/plain": [
       "'Ab'"
      ]
     },
     "execution_count": 4,
     "metadata": {},
     "output_type": "execute_result"
    }
   ],
   "source": [
    "\"A\"+\"b\""
   ]
  },
  {
   "cell_type": "code",
   "execution_count": 5,
   "id": "b80bb48a-2fc6-40b2-8da7-191896a11dd5",
   "metadata": {},
   "outputs": [],
   "source": [
    "name = \"Baran\""
   ]
  },
  {
   "cell_type": "code",
   "execution_count": 6,
   "id": "1c92e5ee-41a2-4adb-85ad-8c7ac37a0894",
   "metadata": {},
   "outputs": [],
   "source": [
    "surname = \"Daşdemir\""
   ]
  },
  {
   "cell_type": "code",
   "execution_count": 10,
   "id": "7e0b6d9f-73bf-4eb5-8e72-137d360c8c34",
   "metadata": {},
   "outputs": [],
   "source": [
    "fullName = name + \" \" +surname"
   ]
  },
  {
   "cell_type": "code",
   "execution_count": 8,
   "id": "6dab24d9-68fc-40bc-990c-61cc7200e6f7",
   "metadata": {},
   "outputs": [
    {
     "data": {
      "text/plain": [
       "'BaranDaşdemir'"
      ]
     },
     "execution_count": 8,
     "metadata": {},
     "output_type": "execute_result"
    }
   ],
   "source": [
    "fullName"
   ]
  },
  {
   "cell_type": "code",
   "execution_count": 9,
   "id": "b5062ba4-f340-499f-a8ab-5a75863747c1",
   "metadata": {},
   "outputs": [
    {
     "data": {
      "text/plain": [
       "'BaranDaşdemir'"
      ]
     },
     "execution_count": 9,
     "metadata": {},
     "output_type": "execute_result"
    }
   ],
   "source": [
    "fullName"
   ]
  },
  {
   "cell_type": "code",
   "execution_count": 11,
   "id": "7e997b84-f57b-4788-8ea9-7eadb8cdfd8a",
   "metadata": {},
   "outputs": [],
   "source": [
    "fullName = name + \" \" +surname"
   ]
  },
  {
   "cell_type": "code",
   "execution_count": 12,
   "id": "950ab02f-1b26-497b-8aa9-18cf5c68d4d6",
   "metadata": {},
   "outputs": [
    {
     "data": {
      "text/plain": [
       "'Baran Daşdemir'"
      ]
     },
     "execution_count": 12,
     "metadata": {},
     "output_type": "execute_result"
    }
   ],
   "source": [
    "fullName"
   ]
  },
  {
   "cell_type": "code",
   "execution_count": 13,
   "id": "847bc4ba-a733-46f9-95ed-1280f29296ef",
   "metadata": {},
   "outputs": [
    {
     "data": {
      "text/plain": [
       "'Baran DaşdemirBaran DaşdemirBaran DaşdemirBaran DaşdemirBaran Daşdemir'"
      ]
     },
     "execution_count": 13,
     "metadata": {},
     "output_type": "execute_result"
    }
   ],
   "source": [
    "fullName*5"
   ]
  },
  {
   "cell_type": "code",
   "execution_count": 14,
   "id": "c8eeac6b-be47-46f2-8dc6-5f6179d0f7fe",
   "metadata": {},
   "outputs": [
    {
     "ename": "TypeError",
     "evalue": "can only concatenate str (not \"int\") to str",
     "output_type": "error",
     "traceback": [
      "\u001b[1;31m---------------------------------------------------------------------------\u001b[0m",
      "\u001b[1;31mTypeError\u001b[0m                                 Traceback (most recent call last)",
      "Cell \u001b[1;32mIn[14], line 1\u001b[0m\n\u001b[1;32m----> 1\u001b[0m fullName\u001b[38;5;241m+\u001b[39m\u001b[38;5;241m2\u001b[39m\n",
      "\u001b[1;31mTypeError\u001b[0m: can only concatenate str (not \"int\") to str"
     ]
    }
   ],
   "source": [
    "fullName+2"
   ]
  },
  {
   "cell_type": "code",
   "execution_count": 15,
   "id": "c1598377-a278-4cc2-b070-b55818390657",
   "metadata": {},
   "outputs": [
    {
     "data": {
      "text/plain": [
       "'Baran DaşdemirBaran Daşdemir'"
      ]
     },
     "execution_count": 15,
     "metadata": {},
     "output_type": "execute_result"
    }
   ],
   "source": [
    "fullName*2"
   ]
  },
  {
   "cell_type": "code",
   "execution_count": 16,
   "id": "e10123ba-b6c0-40c0-a0f8-5c0829edc148",
   "metadata": {},
   "outputs": [
    {
     "ename": "SyntaxError",
     "evalue": "invalid syntax (4060458041.py, line 1)",
     "output_type": "error",
     "traceback": [
      "\u001b[1;36m  Cell \u001b[1;32mIn[16], line 1\u001b[1;36m\u001b[0m\n\u001b[1;33m    fullName+\" \"+*2\u001b[0m\n\u001b[1;37m                 ^\u001b[0m\n\u001b[1;31mSyntaxError\u001b[0m\u001b[1;31m:\u001b[0m invalid syntax\n"
     ]
    }
   ],
   "source": [
    "fullName+\" \"+*2"
   ]
  },
  {
   "cell_type": "code",
   "execution_count": 17,
   "id": "1e95e000-1e1b-4b62-bab6-fc9f844df0a1",
   "metadata": {},
   "outputs": [],
   "source": [
    "#slicingg başlıyorrrrrrrrrrrrrr\n"
   ]
  },
  {
   "cell_type": "code",
   "execution_count": 18,
   "id": "b0bc1418-7d6f-44a5-babe-656b227108ab",
   "metadata": {},
   "outputs": [
    {
     "data": {
      "text/plain": [
       "'ABC123456789'"
      ]
     },
     "execution_count": 18,
     "metadata": {},
     "output_type": "execute_result"
    }
   ],
   "source": [
    "barcode[::]"
   ]
  },
  {
   "cell_type": "code",
   "execution_count": 19,
   "id": "89d8600d-d5be-49ca-8c95-10e05f3236e3",
   "metadata": {},
   "outputs": [
    {
     "ename": "_IncompleteInputError",
     "evalue": "incomplete input (1543875439.py, line 1)",
     "output_type": "error",
     "traceback": [
      "\u001b[1;36m  Cell \u001b[1;32mIn[19], line 1\u001b[1;36m\u001b[0m\n\u001b[1;33m    barcode[#starting index:stopping index:stepping size]\u001b[0m\n\u001b[1;37m                                                         ^\u001b[0m\n\u001b[1;31m_IncompleteInputError\u001b[0m\u001b[1;31m:\u001b[0m incomplete input\n"
     ]
    }
   ],
   "source": [
    "barcode[#starting index:stopping index:stepping size]"
   ]
  },
  {
   "cell_type": "code",
   "execution_count": 20,
   "id": "1f270f00-e2a3-46cc-aa5b-b2b13550bb65",
   "metadata": {},
   "outputs": [
    {
     "ename": "_IncompleteInputError",
     "evalue": "incomplete input (3508606874.py, line 1)",
     "output_type": "error",
     "traceback": [
      "\u001b[1;36m  Cell \u001b[1;32mIn[20], line 1\u001b[1;36m\u001b[0m\n\u001b[1;33m    barcode[#starting index:#stopping index:#stepping size]\u001b[0m\n\u001b[1;37m                                                           ^\u001b[0m\n\u001b[1;31m_IncompleteInputError\u001b[0m\u001b[1;31m:\u001b[0m incomplete input\n"
     ]
    }
   ],
   "source": [
    "barcode[#starting index:#stopping index:#stepping size]"
   ]
  },
  {
   "cell_type": "code",
   "execution_count": 21,
   "id": "47477040-eb70-4690-8a80-076b1b0e2434",
   "metadata": {},
   "outputs": [],
   "source": [
    "#barcode[#starting index:#stopping index:#stepping size]"
   ]
  },
  {
   "cell_type": "code",
   "execution_count": 22,
   "id": "2b3e1f88-aa31-4a48-8571-61a876005ec7",
   "metadata": {},
   "outputs": [
    {
     "data": {
      "text/plain": [
       "'B2'"
      ]
     },
     "execution_count": 22,
     "metadata": {},
     "output_type": "execute_result"
    }
   ],
   "source": [
    "barcode[1:6:3]"
   ]
  },
  {
   "cell_type": "code",
   "execution_count": 23,
   "id": "3d489816-3369-4fa7-93b7-fdd7b004f9df",
   "metadata": {},
   "outputs": [],
   "source": [
    "#barcode[#starting index:#stopping index:#stepping size]\n",
    "#kaç ta başlayalım  kaçta bitirelim kaçar kaçar ilerleyelim demek "
   ]
  },
  {
   "cell_type": "code",
   "execution_count": 24,
   "id": "f45889b8-ad0e-47bc-a6ff-f9e43d8a8c39",
   "metadata": {},
   "outputs": [
    {
     "data": {
      "text/plain": [
       "'BC123'"
      ]
     },
     "execution_count": 24,
     "metadata": {},
     "output_type": "execute_result"
    }
   ],
   "source": [
    "barcode[1:6:1]"
   ]
  },
  {
   "cell_type": "code",
   "execution_count": 25,
   "id": "a4fd6f4a-8418-4d24-ae5b-df6a77f73e71",
   "metadata": {},
   "outputs": [
    {
     "data": {
      "text/plain": [
       "'B13'"
      ]
     },
     "execution_count": 25,
     "metadata": {},
     "output_type": "execute_result"
    }
   ],
   "source": [
    "barcode[1:6:2]"
   ]
  },
  {
   "cell_type": "code",
   "execution_count": 26,
   "id": "afd174d7-5987-4236-a808-e81d95816159",
   "metadata": {},
   "outputs": [
    {
     "data": {
      "text/plain": [
       "'BC123456789'"
      ]
     },
     "execution_count": 26,
     "metadata": {},
     "output_type": "execute_result"
    }
   ],
   "source": [
    "barcode[1::]"
   ]
  },
  {
   "cell_type": "code",
   "execution_count": 27,
   "id": "90dd33ea-7939-4812-a7ec-52a13c42b441",
   "metadata": {},
   "outputs": [
    {
     "data": {
      "text/plain": [
       "'ABC123'"
      ]
     },
     "execution_count": 27,
     "metadata": {},
     "output_type": "execute_result"
    }
   ],
   "source": [
    "barcode[:6:]"
   ]
  },
  {
   "cell_type": "code",
   "execution_count": 28,
   "id": "a0579e7a-a8f3-40bb-8dfc-52f1e8191954",
   "metadata": {},
   "outputs": [
    {
     "data": {
      "text/plain": [
       "'B13579'"
      ]
     },
     "execution_count": 28,
     "metadata": {},
     "output_type": "execute_result"
    }
   ],
   "source": [
    "barcode[1::2]"
   ]
  },
  {
   "cell_type": "code",
   "execution_count": 29,
   "id": "74c4d5bc-aaea-4417-9c51-762478936312",
   "metadata": {},
   "outputs": [
    {
     "data": {
      "text/plain": [
       "'AC2'"
      ]
     },
     "execution_count": 29,
     "metadata": {},
     "output_type": "execute_result"
    }
   ],
   "source": [
    "barcode[:6:2]"
   ]
  },
  {
   "cell_type": "code",
   "execution_count": 30,
   "id": "a5fe5f62-b8f1-4738-b1f2-2264856db1d5",
   "metadata": {},
   "outputs": [
    {
     "data": {
      "text/plain": [
       "'AC2468'"
      ]
     },
     "execution_count": 30,
     "metadata": {},
     "output_type": "execute_result"
    }
   ],
   "source": [
    "barcode[::2]"
   ]
  },
  {
   "cell_type": "code",
   "execution_count": 31,
   "id": "d725fc4e-147d-4fa0-ae2e-a689d2d467f7",
   "metadata": {},
   "outputs": [
    {
     "data": {
      "text/plain": [
       "'12'"
      ]
     },
     "execution_count": 31,
     "metadata": {},
     "output_type": "execute_result"
    }
   ],
   "source": [
    "barcode[3:5:]"
   ]
  },
  {
   "cell_type": "code",
   "execution_count": 32,
   "id": "f5d04e4f-94ca-4d31-97a1-58d1b0ebe35c",
   "metadata": {},
   "outputs": [
    {
     "data": {
      "text/plain": [
       "'ABC12'"
      ]
     },
     "execution_count": 32,
     "metadata": {},
     "output_type": "execute_result"
    }
   ],
   "source": [
    "barcode[0:5:]"
   ]
  },
  {
   "cell_type": "code",
   "execution_count": 33,
   "id": "e38a70b3-4385-4508-b868-7cde2a170bc2",
   "metadata": {},
   "outputs": [
    {
     "data": {
      "text/plain": [
       "'97531B'"
      ]
     },
     "execution_count": 33,
     "metadata": {},
     "output_type": "execute_result"
    }
   ],
   "source": [
    "barcode[::-2]"
   ]
  },
  {
   "cell_type": "code",
   "execution_count": 34,
   "id": "8c3cb5c8-60f0-4448-9153-5b66ccf13dac",
   "metadata": {},
   "outputs": [
    {
     "data": {
      "text/plain": [
       "'9'"
      ]
     },
     "execution_count": 34,
     "metadata": {},
     "output_type": "execute_result"
    }
   ],
   "source": [
    "barcode[-1::]"
   ]
  },
  {
   "cell_type": "code",
   "execution_count": 35,
   "id": "0d5931b8-3578-4b70-ad41-da2bd5cf9392",
   "metadata": {},
   "outputs": [
    {
     "data": {
      "text/plain": [
       "'ABC123456789'"
      ]
     },
     "execution_count": 35,
     "metadata": {},
     "output_type": "execute_result"
    }
   ],
   "source": [
    "barcode"
   ]
  },
  {
   "cell_type": "code",
   "execution_count": null,
   "id": "7f0ddf88-fdea-4cb2-bde8-ae60b6935e75",
   "metadata": {},
   "outputs": [],
   "source": []
  }
 ],
 "metadata": {
  "kernelspec": {
   "display_name": "Python [conda env:base] *",
   "language": "python",
   "name": "conda-base-py"
  },
  "language_info": {
   "codemirror_mode": {
    "name": "ipython",
    "version": 3
   },
   "file_extension": ".py",
   "mimetype": "text/x-python",
   "name": "python",
   "nbconvert_exporter": "python",
   "pygments_lexer": "ipython3",
   "version": "3.13.5"
  }
 },
 "nbformat": 4,
 "nbformat_minor": 5
}
