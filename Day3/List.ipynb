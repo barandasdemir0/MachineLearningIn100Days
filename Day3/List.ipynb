{
 "cells": [
  {
   "cell_type": "code",
   "execution_count": 1,
   "id": "a24336c7-4beb-42c7-88a6-21ad941438e6",
   "metadata": {},
   "outputs": [],
   "source": [
    "myString = \"Hello World\""
   ]
  },
  {
   "cell_type": "code",
   "execution_count": 2,
   "id": "47e64cb8-e45a-4e55-bf3a-fc9e0b40ee81",
   "metadata": {},
   "outputs": [
    {
     "data": {
      "text/plain": [
       "['Hello', 'World']"
      ]
     },
     "execution_count": 2,
     "metadata": {},
     "output_type": "execute_result"
    }
   ],
   "source": [
    "myString.split()"
   ]
  },
  {
   "cell_type": "code",
   "execution_count": 3,
   "id": "d4c65de2-e682-4ca9-83fd-53e190c0394b",
   "metadata": {},
   "outputs": [
    {
     "data": {
      "text/plain": [
       "str"
      ]
     },
     "execution_count": 3,
     "metadata": {},
     "output_type": "execute_result"
    }
   ],
   "source": [
    "type(myString)"
   ]
  },
  {
   "cell_type": "code",
   "execution_count": 4,
   "id": "bfa167d6-553c-4ce7-8251-57a0c6a30344",
   "metadata": {},
   "outputs": [
    {
     "data": {
      "text/plain": [
       "list"
      ]
     },
     "execution_count": 4,
     "metadata": {},
     "output_type": "execute_result"
    }
   ],
   "source": [
    "type(myString.split())"
   ]
  },
  {
   "cell_type": "code",
   "execution_count": 5,
   "id": "b8155ada-5b55-46bd-ab99-cff593c0530f",
   "metadata": {},
   "outputs": [],
   "source": [
    "#LİST YAPISI"
   ]
  },
  {
   "cell_type": "markdown",
   "id": "6b3b42b3-6106-4f01-bd63-317b0dfe25a7",
   "metadata": {},
   "source": [
    "list"
   ]
  },
  {
   "cell_type": "raw",
   "id": "51cd1d1c-86bc-484b-b96e-5f888ad33952",
   "metadata": {},
   "source": [
    "#list"
   ]
  },
  {
   "cell_type": "raw",
   "id": "e68a8c4d-0cee-4224-ad83-b36ccbcf8e44",
   "metadata": {},
   "source": [
    "#list"
   ]
  },
  {
   "cell_type": "markdown",
   "id": "064b7284-6f0e-4294-b4ec-e4bb71fbf5a9",
   "metadata": {},
   "source": [
    "#list"
   ]
  },
  {
   "cell_type": "code",
   "execution_count": 6,
   "id": "fdf6232c-a2ff-475b-8b51-89ab1906ebf1",
   "metadata": {},
   "outputs": [],
   "source": [
    "myList = 10,20,30,40,50,60"
   ]
  },
  {
   "cell_type": "code",
   "execution_count": 7,
   "id": "05e4e936-0b9c-4e12-bc5b-bb74777b9fc5",
   "metadata": {},
   "outputs": [
    {
     "data": {
      "text/plain": [
       "(10, 20, 30, 40, 50, 60)"
      ]
     },
     "execution_count": 7,
     "metadata": {},
     "output_type": "execute_result"
    }
   ],
   "source": [
    "myList"
   ]
  },
  {
   "cell_type": "code",
   "execution_count": 8,
   "id": "228ee4cb-61a5-4bb0-9794-4a36147d1135",
   "metadata": {},
   "outputs": [
    {
     "data": {
      "text/plain": [
       "60"
      ]
     },
     "execution_count": 8,
     "metadata": {},
     "output_type": "execute_result"
    }
   ],
   "source": [
    "myList[-1]"
   ]
  },
  {
   "cell_type": "code",
   "execution_count": 9,
   "id": "417f7639-fb04-4eb6-88f2-94f713a74cad",
   "metadata": {},
   "outputs": [
    {
     "data": {
      "text/plain": [
       "10"
      ]
     },
     "execution_count": 9,
     "metadata": {},
     "output_type": "execute_result"
    }
   ],
   "source": [
    "myList[0]"
   ]
  },
  {
   "cell_type": "code",
   "execution_count": 10,
   "id": "11cb63d2-2a5b-40ec-86a4-30319df00dfe",
   "metadata": {},
   "outputs": [
    {
     "data": {
      "text/plain": [
       "6"
      ]
     },
     "execution_count": 10,
     "metadata": {},
     "output_type": "execute_result"
    }
   ],
   "source": [
    "len(myList)"
   ]
  },
  {
   "cell_type": "code",
   "execution_count": 11,
   "id": "6469a847-270a-45e2-828a-471cca5d759e",
   "metadata": {},
   "outputs": [
    {
     "data": {
      "text/plain": [
       "50"
      ]
     },
     "execution_count": 11,
     "metadata": {},
     "output_type": "execute_result"
    }
   ],
   "source": [
    "myList[len(myList)-2]"
   ]
  },
  {
   "cell_type": "code",
   "execution_count": 12,
   "id": "bcb5230a-2fcb-432e-8275-74c24ae945c1",
   "metadata": {},
   "outputs": [
    {
     "ename": "IndexError",
     "evalue": "tuple index out of range",
     "output_type": "error",
     "traceback": [
      "\u001b[1;31m---------------------------------------------------------------------------\u001b[0m",
      "\u001b[1;31mIndexError\u001b[0m                                Traceback (most recent call last)",
      "Cell \u001b[1;32mIn[12], line 1\u001b[0m\n\u001b[1;32m----> 1\u001b[0m myList[\u001b[38;5;28mlen\u001b[39m(myList)\u001b[38;5;241m+\u001b[39m\u001b[38;5;241m2\u001b[39m]\n",
      "\u001b[1;31mIndexError\u001b[0m: tuple index out of range"
     ]
    }
   ],
   "source": [
    "myList[len(myList)+2]"
   ]
  },
  {
   "cell_type": "code",
   "execution_count": 13,
   "id": "a71987dc-18ca-4ed5-bae2-e017e015841a",
   "metadata": {},
   "outputs": [
    {
     "data": {
      "text/plain": [
       "50"
      ]
     },
     "execution_count": 13,
     "metadata": {},
     "output_type": "execute_result"
    }
   ],
   "source": [
    "myList[-2]"
   ]
  },
  {
   "cell_type": "code",
   "execution_count": 14,
   "id": "4e9543b0-3972-4d96-a4df-4d621c7480a0",
   "metadata": {},
   "outputs": [
    {
     "ename": "AttributeError",
     "evalue": "'tuple' object has no attribute 'append'",
     "output_type": "error",
     "traceback": [
      "\u001b[1;31m---------------------------------------------------------------------------\u001b[0m",
      "\u001b[1;31mAttributeError\u001b[0m                            Traceback (most recent call last)",
      "Cell \u001b[1;32mIn[14], line 1\u001b[0m\n\u001b[1;32m----> 1\u001b[0m myList\u001b[38;5;241m.\u001b[39mappend(\u001b[38;5;241m70\u001b[39m)\n",
      "\u001b[1;31mAttributeError\u001b[0m: 'tuple' object has no attribute 'append'"
     ]
    }
   ],
   "source": [
    "myList.append(70)"
   ]
  },
  {
   "cell_type": "code",
   "execution_count": 15,
   "id": "b20c1160-0bc6-4d78-be44-b9e6e7087098",
   "metadata": {},
   "outputs": [],
   "source": [
    "myList = [10,20,30,40,50,60]"
   ]
  },
  {
   "cell_type": "code",
   "execution_count": 16,
   "id": "3577d092-557d-402e-9883-b25d20b32f33",
   "metadata": {},
   "outputs": [],
   "source": [
    "myList.append(80)"
   ]
  },
  {
   "cell_type": "code",
   "execution_count": 17,
   "id": "5b8aa99c-573a-482f-bb90-5ff477d6602d",
   "metadata": {},
   "outputs": [
    {
     "data": {
      "text/plain": [
       "[10, 20, 30, 40, 50, 60, 80]"
      ]
     },
     "execution_count": 17,
     "metadata": {},
     "output_type": "execute_result"
    }
   ],
   "source": [
    "myList"
   ]
  },
  {
   "cell_type": "code",
   "execution_count": 18,
   "id": "c173fde2-751b-493e-8a14-9f0068065556",
   "metadata": {},
   "outputs": [],
   "source": [
    "myList.remove(80)"
   ]
  },
  {
   "cell_type": "code",
   "execution_count": 19,
   "id": "6dee5653-2d47-462c-a7ae-1a21ee9c62e7",
   "metadata": {},
   "outputs": [
    {
     "data": {
      "text/plain": [
       "[10, 20, 30, 40, 50, 60]"
      ]
     },
     "execution_count": 19,
     "metadata": {},
     "output_type": "execute_result"
    }
   ],
   "source": [
    "myList"
   ]
  },
  {
   "cell_type": "code",
   "execution_count": 20,
   "id": "c2b0c02c-6d06-4ddd-a1be-c3ac3ed7365a",
   "metadata": {},
   "outputs": [
    {
     "data": {
      "text/plain": [
       "list"
      ]
     },
     "execution_count": 20,
     "metadata": {},
     "output_type": "execute_result"
    }
   ],
   "source": [
    "type(myList)"
   ]
  },
  {
   "cell_type": "code",
   "execution_count": 21,
   "id": "f2f1e848-5425-47a2-9011-6c10308d72fc",
   "metadata": {},
   "outputs": [
    {
     "ename": "AttributeError",
     "evalue": "'list' object has no attribute 'split'",
     "output_type": "error",
     "traceback": [
      "\u001b[1;31m---------------------------------------------------------------------------\u001b[0m",
      "\u001b[1;31mAttributeError\u001b[0m                            Traceback (most recent call last)",
      "Cell \u001b[1;32mIn[21], line 1\u001b[0m\n\u001b[1;32m----> 1\u001b[0m \u001b[38;5;28mtype\u001b[39m(myList\u001b[38;5;241m.\u001b[39msplit())\n",
      "\u001b[1;31mAttributeError\u001b[0m: 'list' object has no attribute 'split'"
     ]
    }
   ],
   "source": [
    "type(myList.split())"
   ]
  },
  {
   "cell_type": "code",
   "execution_count": 22,
   "id": "4ae20580-390b-4b8e-9fdd-5cb0872c9031",
   "metadata": {},
   "outputs": [
    {
     "ename": "AttributeError",
     "evalue": "'list' object has no attribute 'split'",
     "output_type": "error",
     "traceback": [
      "\u001b[1;31m---------------------------------------------------------------------------\u001b[0m",
      "\u001b[1;31mAttributeError\u001b[0m                            Traceback (most recent call last)",
      "Cell \u001b[1;32mIn[22], line 1\u001b[0m\n\u001b[1;32m----> 1\u001b[0m \u001b[38;5;28mtype\u001b[39m(myList\u001b[38;5;241m.\u001b[39msplit)\n",
      "\u001b[1;31mAttributeError\u001b[0m: 'list' object has no attribute 'split'"
     ]
    }
   ],
   "source": [
    "type(myList.split)"
   ]
  },
  {
   "cell_type": "code",
   "execution_count": 23,
   "id": "bba2fb73-8a15-42f2-9464-0e4c4055c1a0",
   "metadata": {},
   "outputs": [],
   "source": [
    "myList.append(10)"
   ]
  },
  {
   "cell_type": "code",
   "execution_count": 24,
   "id": "0cab3973-1aaa-450a-acac-dd78e2836fe2",
   "metadata": {},
   "outputs": [
    {
     "data": {
      "text/plain": [
       "[10, 20, 30, 40, 50, 60, 10]"
      ]
     },
     "execution_count": 24,
     "metadata": {},
     "output_type": "execute_result"
    }
   ],
   "source": [
    "myList"
   ]
  },
  {
   "cell_type": "code",
   "execution_count": 25,
   "id": "5a1ca40a-f5bc-4b88-a706-6413b2ae482b",
   "metadata": {},
   "outputs": [
    {
     "data": {
      "text/plain": [
       "2"
      ]
     },
     "execution_count": 25,
     "metadata": {},
     "output_type": "execute_result"
    }
   ],
   "source": [
    "myList.count(10)"
   ]
  },
  {
   "cell_type": "code",
   "execution_count": 26,
   "id": "bde2ab18-17cd-4866-8781-e09967ff82d4",
   "metadata": {},
   "outputs": [
    {
     "data": {
      "text/plain": [
       "1"
      ]
     },
     "execution_count": 26,
     "metadata": {},
     "output_type": "execute_result"
    }
   ],
   "source": [
    "myList.count(20)"
   ]
  },
  {
   "cell_type": "code",
   "execution_count": 27,
   "id": "cac47428-e9e6-4458-bda9-778811afd139",
   "metadata": {},
   "outputs": [
    {
     "data": {
      "text/plain": [
       "7"
      ]
     },
     "execution_count": 27,
     "metadata": {},
     "output_type": "execute_result"
    }
   ],
   "source": [
    "len(myList)"
   ]
  },
  {
   "cell_type": "code",
   "execution_count": 28,
   "id": "1b8c999c-25c3-4862-aedf-ac72dffd942e",
   "metadata": {},
   "outputs": [
    {
     "ename": "AttributeError",
     "evalue": "'list' object has no attribute 'Index'",
     "output_type": "error",
     "traceback": [
      "\u001b[1;31m---------------------------------------------------------------------------\u001b[0m",
      "\u001b[1;31mAttributeError\u001b[0m                            Traceback (most recent call last)",
      "Cell \u001b[1;32mIn[28], line 1\u001b[0m\n\u001b[1;32m----> 1\u001b[0m myList\u001b[38;5;241m.\u001b[39mIndex(\u001b[38;5;241m10\u001b[39m)\n",
      "\u001b[1;31mAttributeError\u001b[0m: 'list' object has no attribute 'Index'"
     ]
    }
   ],
   "source": [
    "myList.Index(10)"
   ]
  },
  {
   "cell_type": "code",
   "execution_count": 29,
   "id": "433deef6-9bb6-480f-9df3-75350f2454f2",
   "metadata": {},
   "outputs": [
    {
     "ename": "AttributeError",
     "evalue": "'list' object has no attribute 'Index'",
     "output_type": "error",
     "traceback": [
      "\u001b[1;31m---------------------------------------------------------------------------\u001b[0m",
      "\u001b[1;31mAttributeError\u001b[0m                            Traceback (most recent call last)",
      "Cell \u001b[1;32mIn[29], line 1\u001b[0m\n\u001b[1;32m----> 1\u001b[0m myList\u001b[38;5;241m.\u001b[39mIndex(\u001b[38;5;241m20\u001b[39m)\n",
      "\u001b[1;31mAttributeError\u001b[0m: 'list' object has no attribute 'Index'"
     ]
    }
   ],
   "source": [
    "myList.Index(20)"
   ]
  },
  {
   "cell_type": "code",
   "execution_count": 30,
   "id": "e9368de6-2168-42cf-b796-8f7a2a567659",
   "metadata": {},
   "outputs": [
    {
     "data": {
      "text/plain": [
       "1"
      ]
     },
     "execution_count": 30,
     "metadata": {},
     "output_type": "execute_result"
    }
   ],
   "source": [
    "myList.Index(20)"
   ]
  },
  {
   "cell_type": "code",
   "execution_count": 31,
   "id": "9c0f90b2-7082-47cc-8b19-ffb36fc80ae3",
   "metadata": {},
   "outputs": [
    {
     "ename": "AttributeError",
     "evalue": "'list' object has no attribute 'Index'",
     "output_type": "error",
     "traceback": [
      "\u001b[1;31m---------------------------------------------------------------------------\u001b[0m",
      "\u001b[1;31mAttributeError\u001b[0m                            Traceback (most recent call last)",
      "Cell \u001b[1;32mIn[31], line 1\u001b[0m\n\u001b[1;32m----> 1\u001b[0m myList\u001b[38;5;241m.\u001b[39mIndex(\u001b[38;5;241m10\u001b[39m)\n",
      "\u001b[1;31mAttributeError\u001b[0m: 'list' object has no attribute 'Index'"
     ]
    }
   ],
   "source": [
    "myList.Index(10)"
   ]
  },
  {
   "cell_type": "code",
   "execution_count": 32,
   "id": "c2df5471-aa0c-4ad1-ba4b-01eff7f2f448",
   "metadata": {},
   "outputs": [
    {
     "data": {
      "text/plain": [
       "0"
      ]
     },
     "execution_count": 32,
     "metadata": {},
     "output_type": "execute_result"
    }
   ],
   "source": [
    "myList.index(10)"
   ]
  },
  {
   "cell_type": "code",
   "execution_count": 33,
   "id": "f5f167d8-50bc-46f5-bc0a-d07709092a35",
   "metadata": {},
   "outputs": [
    {
     "ename": "SyntaxError",
     "evalue": "invalid syntax (2845198139.py, line 1)",
     "output_type": "error",
     "traceback": [
      "\u001b[1;36m  Cell \u001b[1;32mIn[33], line 1\u001b[1;36m\u001b[0m\n\u001b[1;33m    myList.index(10:2)\u001b[0m\n\u001b[1;37m                   ^\u001b[0m\n\u001b[1;31mSyntaxError\u001b[0m\u001b[1;31m:\u001b[0m invalid syntax\n"
     ]
    }
   ],
   "source": [
    "myList.index(10:2)"
   ]
  },
  {
   "cell_type": "code",
   "execution_count": 34,
   "id": "282190c8-92ef-408f-916f-1be607a1b006",
   "metadata": {},
   "outputs": [
    {
     "ename": "SyntaxError",
     "evalue": "invalid syntax (4162527972.py, line 1)",
     "output_type": "error",
     "traceback": [
      "\u001b[1;36m  Cell \u001b[1;32mIn[34], line 1\u001b[1;36m\u001b[0m\n\u001b[1;33m    myList.insert(10:1)\u001b[0m\n\u001b[1;37m                    ^\u001b[0m\n\u001b[1;31mSyntaxError\u001b[0m\u001b[1;31m:\u001b[0m invalid syntax\n"
     ]
    }
   ],
   "source": [
    "myList.insert(10:1)"
   ]
  },
  {
   "cell_type": "code",
   "execution_count": 36,
   "id": "295b1c0a-4e31-47b2-abfd-284c9818c025",
   "metadata": {},
   "outputs": [
    {
     "ename": "SyntaxError",
     "evalue": "invalid syntax (3768483084.py, line 1)",
     "output_type": "error",
     "traceback": [
      "\u001b[1;36m  Cell \u001b[1;32mIn[36], line 1\u001b[1;36m\u001b[0m\n\u001b[1;33m    myList.insert(1:10)\u001b[0m\n\u001b[1;37m                   ^\u001b[0m\n\u001b[1;31mSyntaxError\u001b[0m\u001b[1;31m:\u001b[0m invalid syntax\n"
     ]
    }
   ],
   "source": [
    "myList.insert(1:10)"
   ]
  },
  {
   "cell_type": "code",
   "execution_count": 37,
   "id": "f40f31cc-8b93-411b-b499-b7daca48e240",
   "metadata": {},
   "outputs": [],
   "source": [
    "myList.insert(1,10)"
   ]
  },
  {
   "cell_type": "code",
   "execution_count": 38,
   "id": "016b3a03-9386-48d8-8aed-1187251f7dcb",
   "metadata": {},
   "outputs": [
    {
     "data": {
      "text/plain": [
       "[10, 10, 20, 30, 40, 50, 60, 10]"
      ]
     },
     "execution_count": 38,
     "metadata": {},
     "output_type": "execute_result"
    }
   ],
   "source": [
    "myList"
   ]
  },
  {
   "cell_type": "code",
   "execution_count": 39,
   "id": "30335b6c-b185-40ef-bce7-2ad51ef2d5f5",
   "metadata": {},
   "outputs": [
    {
     "data": {
      "text/plain": [
       "<function list.pop(index=-1, /)>"
      ]
     },
     "execution_count": 39,
     "metadata": {},
     "output_type": "execute_result"
    }
   ],
   "source": [
    "myList.pop"
   ]
  },
  {
   "cell_type": "code",
   "execution_count": 40,
   "id": "8d6182c5-793a-419d-bec9-c42adae0aa7e",
   "metadata": {},
   "outputs": [
    {
     "data": {
      "text/plain": [
       "10"
      ]
     },
     "execution_count": 40,
     "metadata": {},
     "output_type": "execute_result"
    }
   ],
   "source": [
    "myList.pop()"
   ]
  },
  {
   "cell_type": "code",
   "execution_count": 41,
   "id": "53dde87c-a21a-43cc-a6ae-4eec5bfa0703",
   "metadata": {},
   "outputs": [
    {
     "data": {
      "text/plain": [
       "[10, 10, 20, 30, 40, 50, 60]"
      ]
     },
     "execution_count": 41,
     "metadata": {},
     "output_type": "execute_result"
    }
   ],
   "source": [
    "myList"
   ]
  },
  {
   "cell_type": "code",
   "execution_count": 42,
   "id": "967200b1-487c-471d-b68f-d7ccc4dc9209",
   "metadata": {},
   "outputs": [
    {
     "ename": "TypeError",
     "evalue": "list.remove() takes exactly one argument (2 given)",
     "output_type": "error",
     "traceback": [
      "\u001b[1;31m---------------------------------------------------------------------------\u001b[0m",
      "\u001b[1;31mTypeError\u001b[0m                                 Traceback (most recent call last)",
      "Cell \u001b[1;32mIn[42], line 1\u001b[0m\n\u001b[1;32m----> 1\u001b[0m myList\u001b[38;5;241m.\u001b[39mremove(\u001b[38;5;241m10\u001b[39m,\u001b[38;5;241m1\u001b[39m)\n",
      "\u001b[1;31mTypeError\u001b[0m: list.remove() takes exactly one argument (2 given)"
     ]
    }
   ],
   "source": [
    "myList.remove(10,1)"
   ]
  },
  {
   "cell_type": "code",
   "execution_count": 43,
   "id": "25777be1-b384-4e97-ac2e-fe22481490d6",
   "metadata": {},
   "outputs": [],
   "source": [
    "myList.remove(10)"
   ]
  },
  {
   "cell_type": "code",
   "execution_count": 44,
   "id": "170f22d8-4087-4cc5-bfc6-d8c056e49693",
   "metadata": {},
   "outputs": [
    {
     "data": {
      "text/plain": [
       "[10, 20, 30, 40, 50, 60]"
      ]
     },
     "execution_count": 44,
     "metadata": {},
     "output_type": "execute_result"
    }
   ],
   "source": [
    "myList"
   ]
  },
  {
   "cell_type": "code",
   "execution_count": 45,
   "id": "36b15d81-f667-4901-9080-44f33564e0c9",
   "metadata": {},
   "outputs": [],
   "source": [
    "myList.reverse()"
   ]
  },
  {
   "cell_type": "code",
   "execution_count": 46,
   "id": "b836141c-de13-4ae2-bde0-4ff77a6604e8",
   "metadata": {},
   "outputs": [
    {
     "data": {
      "text/plain": [
       "[60, 50, 40, 30, 20, 10]"
      ]
     },
     "execution_count": 46,
     "metadata": {},
     "output_type": "execute_result"
    }
   ],
   "source": [
    "myList"
   ]
  },
  {
   "cell_type": "code",
   "execution_count": 47,
   "id": "c5c87557-cb11-4672-ba94-55eb26058892",
   "metadata": {},
   "outputs": [
    {
     "ename": "AttributeError",
     "evalue": "'list' object has no attribute 'Sort'",
     "output_type": "error",
     "traceback": [
      "\u001b[1;31m---------------------------------------------------------------------------\u001b[0m",
      "\u001b[1;31mAttributeError\u001b[0m                            Traceback (most recent call last)",
      "Cell \u001b[1;32mIn[47], line 1\u001b[0m\n\u001b[1;32m----> 1\u001b[0m myList\u001b[38;5;241m.\u001b[39mSort()\n",
      "\u001b[1;31mAttributeError\u001b[0m: 'list' object has no attribute 'Sort'"
     ]
    }
   ],
   "source": [
    "myList.Sort()"
   ]
  },
  {
   "cell_type": "code",
   "execution_count": 48,
   "id": "8c9b8f05-ec66-4835-955c-654bc61509b2",
   "metadata": {},
   "outputs": [],
   "source": [
    "myList.sort()"
   ]
  },
  {
   "cell_type": "code",
   "execution_count": 49,
   "id": "0774f0aa-8adb-40de-aba3-e2de6a5008f9",
   "metadata": {},
   "outputs": [
    {
     "data": {
      "text/plain": [
       "[10, 20, 30, 40, 50, 60]"
      ]
     },
     "execution_count": 49,
     "metadata": {},
     "output_type": "execute_result"
    }
   ],
   "source": [
    "myList"
   ]
  },
  {
   "cell_type": "code",
   "execution_count": 50,
   "id": "b1e3f65e-790f-468e-b748-f9d1ea5b750a",
   "metadata": {},
   "outputs": [
    {
     "name": "stdin",
     "output_type": "stream",
     "text": [
      "enter x 10\n"
     ]
    }
   ],
   "source": [
    "x = input(\"enter x\")"
   ]
  },
  {
   "cell_type": "code",
   "execution_count": 51,
   "id": "c085f4ba-1fc0-4683-9538-1ef1ffb3adbf",
   "metadata": {},
   "outputs": [
    {
     "data": {
      "text/plain": [
       "'10'"
      ]
     },
     "execution_count": 51,
     "metadata": {},
     "output_type": "execute_result"
    }
   ],
   "source": [
    "x"
   ]
  },
  {
   "cell_type": "code",
   "execution_count": 52,
   "id": "456e6f5a-f22d-488b-b69c-ea4eb67ea6be",
   "metadata": {},
   "outputs": [
    {
     "data": {
      "text/plain": [
       "str"
      ]
     },
     "execution_count": 52,
     "metadata": {},
     "output_type": "execute_result"
    }
   ],
   "source": [
    "type(x)"
   ]
  },
  {
   "cell_type": "code",
   "execution_count": 53,
   "id": "eb249736-879c-4109-b0d4-4930559b670f",
   "metadata": {},
   "outputs": [
    {
     "name": "stdin",
     "output_type": "stream",
     "text": [
      "enter y: 20\n"
     ]
    }
   ],
   "source": [
    "x = input(\"enter y:\")"
   ]
  },
  {
   "cell_type": "code",
   "execution_count": 54,
   "id": "b96b59b5-2b0d-4f50-a47f-7362a57e67c7",
   "metadata": {},
   "outputs": [
    {
     "ename": "NameError",
     "evalue": "name 'y' is not defined",
     "output_type": "error",
     "traceback": [
      "\u001b[1;31m---------------------------------------------------------------------------\u001b[0m",
      "\u001b[1;31mNameError\u001b[0m                                 Traceback (most recent call last)",
      "Cell \u001b[1;32mIn[54], line 1\u001b[0m\n\u001b[1;32m----> 1\u001b[0m y\n",
      "\u001b[1;31mNameError\u001b[0m: name 'y' is not defined"
     ]
    }
   ],
   "source": [
    "y"
   ]
  },
  {
   "cell_type": "code",
   "execution_count": 55,
   "id": "de423558-10ad-4cee-b371-97e9389772cd",
   "metadata": {},
   "outputs": [
    {
     "name": "stdin",
     "output_type": "stream",
     "text": [
      "enter y: 20\n"
     ]
    }
   ],
   "source": [
    "y = input(\"enter y:\")"
   ]
  },
  {
   "cell_type": "code",
   "execution_count": 56,
   "id": "1de36df2-cdbd-4dbc-adcf-a1fab19d147d",
   "metadata": {},
   "outputs": [
    {
     "data": {
      "text/plain": [
       "'20'"
      ]
     },
     "execution_count": 56,
     "metadata": {},
     "output_type": "execute_result"
    }
   ],
   "source": [
    "y"
   ]
  },
  {
   "cell_type": "code",
   "execution_count": null,
   "id": "1193a788-7037-4fcc-90cf-706380210b1c",
   "metadata": {},
   "outputs": [],
   "source": [
    "x+y"
   ]
  },
  {
   "cell_type": "code",
   "execution_count": null,
   "id": "53b95707-4f90-405e-877c-be8e605aacd7",
   "metadata": {},
   "outputs": [],
   "source": []
  }
 ],
 "metadata": {
  "kernelspec": {
   "display_name": "Python [conda env:base] *",
   "language": "python",
   "name": "conda-base-py"
  },
  "language_info": {
   "codemirror_mode": {
    "name": "ipython",
    "version": 3
   },
   "file_extension": ".py",
   "mimetype": "text/x-python",
   "name": "python",
   "nbconvert_exporter": "python",
   "pygments_lexer": "ipython3",
   "version": "3.13.5"
  }
 },
 "nbformat": 4,
 "nbformat_minor": 5
}
