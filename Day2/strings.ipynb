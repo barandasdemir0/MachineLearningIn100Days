{
 "cells": [
  {
   "cell_type": "code",
   "execution_count": 1,
   "id": "9cccd247-1424-4fe8-bb67-762837d259bb",
   "metadata": {},
   "outputs": [
    {
     "ename": "SyntaxError",
     "evalue": "invalid syntax (3537592377.py, line 1)",
     "output_type": "error",
     "traceback": [
      "\u001b[1;36m  Cell \u001b[1;32mIn[1], line 1\u001b[1;36m\u001b[0m\n\u001b[1;33m    hello world\u001b[0m\n\u001b[1;37m          ^\u001b[0m\n\u001b[1;31mSyntaxError\u001b[0m\u001b[1;31m:\u001b[0m invalid syntax\n"
     ]
    }
   ],
   "source": [
    "hello world"
   ]
  },
  {
   "cell_type": "code",
   "execution_count": 2,
   "id": "9da643b1-75d5-4ba8-96a8-ec419b8ef7e4",
   "metadata": {},
   "outputs": [
    {
     "ename": "SyntaxError",
     "evalue": "unterminated string literal (detected at line 1) (3304930207.py, line 1)",
     "output_type": "error",
     "traceback": [
      "\u001b[1;36m  Cell \u001b[1;32mIn[2], line 1\u001b[1;36m\u001b[0m\n\u001b[1;33m    \"hello world\u001b[0m\n\u001b[1;37m    ^\u001b[0m\n\u001b[1;31mSyntaxError\u001b[0m\u001b[1;31m:\u001b[0m unterminated string literal (detected at line 1)\n"
     ]
    }
   ],
   "source": [
    "\"hello world"
   ]
  },
  {
   "cell_type": "code",
   "execution_count": 3,
   "id": "789033d1-1e0d-4e54-b179-12746a3968d4",
   "metadata": {},
   "outputs": [
    {
     "data": {
      "text/plain": [
       "'hello world'"
      ]
     },
     "execution_count": 3,
     "metadata": {},
     "output_type": "execute_result"
    }
   ],
   "source": [
    "\"hello world\""
   ]
  },
  {
   "cell_type": "code",
   "execution_count": 4,
   "id": "35b9d6bf-9beb-4e40-af62-921fafc314d4",
   "metadata": {},
   "outputs": [
    {
     "name": "stdout",
     "output_type": "stream",
     "text": [
      "hello world\n"
     ]
    }
   ],
   "source": [
    "print(\"hello world\")"
   ]
  },
  {
   "cell_type": "code",
   "execution_count": 5,
   "id": "63df8840-697d-4dfb-8b1a-c73377084c37",
   "metadata": {},
   "outputs": [
    {
     "name": "stdout",
     "output_type": "stream",
     "text": [
      "hello world\n"
     ]
    }
   ],
   "source": [
    "print(\"hello world\");"
   ]
  },
  {
   "cell_type": "code",
   "execution_count": 6,
   "id": "a4a477bf-8db3-4cc3-b8a0-06cfb828dfb0",
   "metadata": {},
   "outputs": [
    {
     "name": "stdout",
     "output_type": "stream",
     "text": [
      "hello world\n",
      "\n",
      "hello world\n"
     ]
    }
   ],
   "source": [
    "print(\"hello world\\n\");\n",
    "print(\"hello world\");"
   ]
  },
  {
   "cell_type": "code",
   "execution_count": 7,
   "id": "0dd9d170-219c-4c12-8fb0-a707f0a94ea8",
   "metadata": {},
   "outputs": [
    {
     "name": "stdout",
     "output_type": "stream",
     "text": [
      "hello world\n",
      "hello world\n"
     ]
    }
   ],
   "source": [
    "print(\"hello world\");\n",
    "print(\"hello world\");"
   ]
  },
  {
   "cell_type": "code",
   "execution_count": 8,
   "id": "5af846c2-3c64-4381-93a2-7137916fad79",
   "metadata": {},
   "outputs": [
    {
     "data": {
      "text/plain": [
       "'baran daşdemir'"
      ]
     },
     "execution_count": 8,
     "metadata": {},
     "output_type": "execute_result"
    }
   ],
   "source": [
    "'baran daşdemir'"
   ]
  },
  {
   "cell_type": "code",
   "execution_count": 9,
   "id": "f21e4816-0bfd-4292-b83e-f62184b7b055",
   "metadata": {},
   "outputs": [],
   "source": [
    "name = \"Baran\""
   ]
  },
  {
   "cell_type": "code",
   "execution_count": 10,
   "id": "cc2d9bfc-37ce-4451-8b8f-99193b7c3211",
   "metadata": {},
   "outputs": [
    {
     "data": {
      "text/plain": [
       "'Baran'"
      ]
     },
     "execution_count": 10,
     "metadata": {},
     "output_type": "execute_result"
    }
   ],
   "source": [
    "name"
   ]
  },
  {
   "cell_type": "code",
   "execution_count": 11,
   "id": "a9b46e8a-8f10-4890-9d90-abdae2339359",
   "metadata": {},
   "outputs": [
    {
     "data": {
      "text/plain": [
       "<function str.capitalize()>"
      ]
     },
     "execution_count": 11,
     "metadata": {},
     "output_type": "execute_result"
    }
   ],
   "source": [
    "name.capitalize"
   ]
  },
  {
   "cell_type": "code",
   "execution_count": 12,
   "id": "972f6545-fc81-4ef1-9f64-60b9d99a47e0",
   "metadata": {},
   "outputs": [],
   "source": [
    "#name yaz tab tuşuna bas fonksiyonlar çıkar"
   ]
  },
  {
   "cell_type": "code",
   "execution_count": 13,
   "id": "b1a59164-0cf2-4cf7-91eb-e9be9a46359b",
   "metadata": {},
   "outputs": [
    {
     "data": {
      "text/plain": [
       "'Baran'"
      ]
     },
     "execution_count": 13,
     "metadata": {},
     "output_type": "execute_result"
    }
   ],
   "source": [
    "name.capitalize()"
   ]
  },
  {
   "cell_type": "code",
   "execution_count": 14,
   "id": "29223af0-57ed-49e3-8938-55205c6a4465",
   "metadata": {},
   "outputs": [
    {
     "ename": "NameError",
     "evalue": "name 'baran' is not defined",
     "output_type": "error",
     "traceback": [
      "\u001b[1;31m---------------------------------------------------------------------------\u001b[0m",
      "\u001b[1;31mNameError\u001b[0m                                 Traceback (most recent call last)",
      "Cell \u001b[1;32mIn[14], line 1\u001b[0m\n\u001b[1;32m----> 1\u001b[0m name \u001b[38;5;241m=\u001b[39m baran\n",
      "\u001b[1;31mNameError\u001b[0m: name 'baran' is not defined"
     ]
    }
   ],
   "source": [
    "name = baran"
   ]
  },
  {
   "cell_type": "code",
   "execution_count": 15,
   "id": "852b0607-284d-4490-b1b2-2dbbd6f4ec99",
   "metadata": {},
   "outputs": [],
   "source": [
    "name = \"baran\""
   ]
  },
  {
   "cell_type": "code",
   "execution_count": 16,
   "id": "1e22a5d6-0a33-4653-8248-c92cb07f7f56",
   "metadata": {},
   "outputs": [
    {
     "data": {
      "text/plain": [
       "'baran'"
      ]
     },
     "execution_count": 16,
     "metadata": {},
     "output_type": "execute_result"
    }
   ],
   "source": [
    "name"
   ]
  },
  {
   "cell_type": "code",
   "execution_count": 17,
   "id": "023f2102-0cee-4ae7-85d3-1829aca112f4",
   "metadata": {},
   "outputs": [
    {
     "data": {
      "text/plain": [
       "'Baran'"
      ]
     },
     "execution_count": 17,
     "metadata": {},
     "output_type": "execute_result"
    }
   ],
   "source": [
    "name.capitalize()"
   ]
  },
  {
   "cell_type": "markdown",
   "id": "a33811cf-2813-4e18-a599-dac2448837db",
   "metadata": {},
   "source": [
    "name.upper()"
   ]
  },
  {
   "cell_type": "code",
   "execution_count": 18,
   "id": "31efa9dc-fa1b-4dbd-8694-8b615aefc544",
   "metadata": {},
   "outputs": [
    {
     "data": {
      "text/plain": [
       "'BARAN'"
      ]
     },
     "execution_count": 18,
     "metadata": {},
     "output_type": "execute_result"
    }
   ],
   "source": [
    "name.upper()"
   ]
  },
  {
   "cell_type": "code",
   "execution_count": 19,
   "id": "f9a3e554-b8e3-4caa-a769-697adb5e5796",
   "metadata": {},
   "outputs": [
    {
     "data": {
      "text/plain": [
       "5"
      ]
     },
     "execution_count": 19,
     "metadata": {},
     "output_type": "execute_result"
    }
   ],
   "source": [
    "len(name)"
   ]
  },
  {
   "cell_type": "code",
   "execution_count": null,
   "id": "d7307675-8ac0-4a38-985f-d9a7ba35ec9c",
   "metadata": {},
   "outputs": [],
   "source": []
  }
 ],
 "metadata": {
  "kernelspec": {
   "display_name": "Python [conda env:base] *",
   "language": "python",
   "name": "conda-base-py"
  },
  "language_info": {
   "codemirror_mode": {
    "name": "ipython",
    "version": 3
   },
   "file_extension": ".py",
   "mimetype": "text/x-python",
   "name": "python",
   "nbconvert_exporter": "python",
   "pygments_lexer": "ipython3",
   "version": "3.13.5"
  }
 },
 "nbformat": 4,
 "nbformat_minor": 5
}
