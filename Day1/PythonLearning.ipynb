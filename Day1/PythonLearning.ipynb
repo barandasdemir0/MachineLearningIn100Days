{
 "cells": [
  {
   "cell_type": "code",
   "execution_count": 1,
   "id": "06157c98-b27b-4dd1-9a7d-deeb816f05a2",
   "metadata": {},
   "outputs": [
    {
     "data": {
      "text/plain": [
       "7"
      ]
     },
     "execution_count": 1,
     "metadata": {},
     "output_type": "execute_result"
    }
   ],
   "source": [
    "4+3"
   ]
  },
  {
   "cell_type": "code",
   "execution_count": 2,
   "id": "4766d87e-52be-4c99-bbd5-a10505de3001",
   "metadata": {},
   "outputs": [
    {
     "data": {
      "text/plain": [
       "45"
      ]
     },
     "execution_count": 2,
     "metadata": {},
     "output_type": "execute_result"
    }
   ],
   "source": [
    "9*5\n"
   ]
  },
  {
   "cell_type": "code",
   "execution_count": 3,
   "id": "38801276-4d15-49d6-a149-3a0a61c16309",
   "metadata": {},
   "outputs": [
    {
     "data": {
      "text/plain": [
       "30"
      ]
     },
     "execution_count": 3,
     "metadata": {},
     "output_type": "execute_result"
    }
   ],
   "source": [
    "20+10"
   ]
  },
  {
   "cell_type": "code",
   "execution_count": null,
   "id": "5f3aa124-1595-43bb-8d1f-a1d079f55ed0",
   "metadata": {},
   "outputs": [],
   "source": []
  }
 ],
 "metadata": {
  "kernelspec": {
   "display_name": "Python [conda env:base] *",
   "language": "python",
   "name": "conda-base-py"
  },
  "language_info": {
   "codemirror_mode": {
    "name": "ipython",
    "version": 3
   },
   "file_extension": ".py",
   "mimetype": "text/x-python",
   "name": "python",
   "nbconvert_exporter": "python",
   "pygments_lexer": "ipython3",
   "version": "3.13.5"
  }
 },
 "nbformat": 4,
 "nbformat_minor": 5
}
