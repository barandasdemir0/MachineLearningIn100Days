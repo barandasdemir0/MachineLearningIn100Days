{
 "cells": [
  {
   "cell_type": "code",
   "execution_count": 2,
   "id": "ffa3b819-42b3-4c4f-b4e1-5b982cf2c652",
   "metadata": {},
   "outputs": [],
   "source": [
    "age = 50"
   ]
  },
  {
   "cell_type": "code",
   "execution_count": 3,
   "id": "9830ecec-1433-4157-b0a6-c35a03fe6afc",
   "metadata": {},
   "outputs": [
    {
     "data": {
      "text/plain": [
       "250"
      ]
     },
     "execution_count": 3,
     "metadata": {},
     "output_type": "execute_result"
    }
   ],
   "source": [
    "age * 5"
   ]
  },
  {
   "cell_type": "code",
   "execution_count": 4,
   "id": "7f2fab05-0c78-43d9-a5b1-66e4a4c9fa8a",
   "metadata": {},
   "outputs": [
    {
     "data": {
      "text/plain": [
       "5.0"
      ]
     },
     "execution_count": 4,
     "metadata": {},
     "output_type": "execute_result"
    }
   ],
   "source": [
    "age / 10"
   ]
  },
  {
   "cell_type": "code",
   "execution_count": 6,
   "id": "16074432-606b-4ee1-832f-6abd07492d36",
   "metadata": {},
   "outputs": [],
   "source": [
    "age = 200"
   ]
  },
  {
   "cell_type": "code",
   "execution_count": 7,
   "id": "48dd1486-f19f-437b-95dd-07ffb17eec39",
   "metadata": {},
   "outputs": [
    {
     "data": {
      "text/plain": [
       "200"
      ]
     },
     "execution_count": 7,
     "metadata": {},
     "output_type": "execute_result"
    }
   ],
   "source": [
    "age"
   ]
  },
  {
   "cell_type": "code",
   "execution_count": 8,
   "id": "c3ee762b-8289-4fd6-9d2b-07da2e7a961c",
   "metadata": {},
   "outputs": [
    {
     "data": {
      "text/plain": [
       "0"
      ]
     },
     "execution_count": 8,
     "metadata": {},
     "output_type": "execute_result"
    }
   ],
   "source": [
    "age % 10"
   ]
  },
  {
   "cell_type": "code",
   "execution_count": 9,
   "id": "13366aaf-21b8-4aa9-8101-31ee9cdc2bb5",
   "metadata": {},
   "outputs": [
    {
     "data": {
      "text/plain": [
       "20.0"
      ]
     },
     "execution_count": 9,
     "metadata": {},
     "output_type": "execute_result"
    }
   ],
   "source": [
    "age / 10"
   ]
  },
  {
   "cell_type": "code",
   "execution_count": null,
   "id": "ce98dcb3-f270-4b03-a3f5-8403d43cea17",
   "metadata": {},
   "outputs": [],
   "source": []
  }
 ],
 "metadata": {
  "kernelspec": {
   "display_name": "Python [conda env:base] *",
   "language": "python",
   "name": "conda-base-py"
  },
  "language_info": {
   "codemirror_mode": {
    "name": "ipython",
    "version": 3
   },
   "file_extension": ".py",
   "mimetype": "text/x-python",
   "name": "python",
   "nbconvert_exporter": "python",
   "pygments_lexer": "ipython3",
   "version": "3.13.5"
  }
 },
 "nbformat": 4,
 "nbformat_minor": 5
}
